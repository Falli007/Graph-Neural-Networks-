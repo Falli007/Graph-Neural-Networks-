{
  "nbformat": 4,
  "nbformat_minor": 0,
  "metadata": {
    "colab": {
      "provenance": []
    },
    "kernelspec": {
      "name": "python3",
      "display_name": "Python 3"
    },
    "language_info": {
      "name": "python"
    }
  },
  "cells": [
    {
      "cell_type": "markdown",
      "source": [
        "Fraud detection often involves identifying suspicious activity in transaction networks, where entities (like users, accounts) and interactions (like money transfers) form a graph. Graph Neural Networks (GNNs) can capture complex inter-entity relationships and detect fraud by learning structural patterns. In this project, I’ll use a GCN model on a synthetic transaction graph to classify nodes as fraudulent or not."
      ],
      "metadata": {
        "id": "BTCdhNeymFWC"
      }
    },
    {
      "cell_type": "code",
      "execution_count": 1,
      "metadata": {
        "colab": {
          "base_uri": "https://localhost:8080/"
        },
        "id": "JiEO_cKPl_38",
        "outputId": "28c978c1-b564-44ff-b03c-2778f56a8658"
      },
      "outputs": [
        {
          "output_type": "stream",
          "name": "stdout",
          "text": [
            "Collecting torch-geometric\n",
            "  Downloading torch_geometric-2.6.1-py3-none-any.whl.metadata (63 kB)\n",
            "\u001b[?25l     \u001b[90m━━━━━━━━━━━━━━━━━━━━━━━━━━━━━━━━━━━━━━━━\u001b[0m \u001b[32m0.0/63.1 kB\u001b[0m \u001b[31m?\u001b[0m eta \u001b[36m-:--:--\u001b[0m\r\u001b[2K     \u001b[90m━━━━━━━━━━━━━━━━━━━━━━━━━━━━━━━━━━━━━━━━\u001b[0m \u001b[32m63.1/63.1 kB\u001b[0m \u001b[31m5.2 MB/s\u001b[0m eta \u001b[36m0:00:00\u001b[0m\n",
            "\u001b[?25hRequirement already satisfied: networkx in /usr/local/lib/python3.11/dist-packages (3.5)\n",
            "Requirement already satisfied: matplotlib in /usr/local/lib/python3.11/dist-packages (3.10.0)\n",
            "Requirement already satisfied: aiohttp in /usr/local/lib/python3.11/dist-packages (from torch-geometric) (3.11.15)\n",
            "Requirement already satisfied: fsspec in /usr/local/lib/python3.11/dist-packages (from torch-geometric) (2025.3.2)\n",
            "Requirement already satisfied: jinja2 in /usr/local/lib/python3.11/dist-packages (from torch-geometric) (3.1.6)\n",
            "Requirement already satisfied: numpy in /usr/local/lib/python3.11/dist-packages (from torch-geometric) (2.0.2)\n",
            "Requirement already satisfied: psutil>=5.8.0 in /usr/local/lib/python3.11/dist-packages (from torch-geometric) (5.9.5)\n",
            "Requirement already satisfied: pyparsing in /usr/local/lib/python3.11/dist-packages (from torch-geometric) (3.2.3)\n",
            "Requirement already satisfied: requests in /usr/local/lib/python3.11/dist-packages (from torch-geometric) (2.32.3)\n",
            "Requirement already satisfied: tqdm in /usr/local/lib/python3.11/dist-packages (from torch-geometric) (4.67.1)\n",
            "Requirement already satisfied: contourpy>=1.0.1 in /usr/local/lib/python3.11/dist-packages (from matplotlib) (1.3.2)\n",
            "Requirement already satisfied: cycler>=0.10 in /usr/local/lib/python3.11/dist-packages (from matplotlib) (0.12.1)\n",
            "Requirement already satisfied: fonttools>=4.22.0 in /usr/local/lib/python3.11/dist-packages (from matplotlib) (4.58.4)\n",
            "Requirement already satisfied: kiwisolver>=1.3.1 in /usr/local/lib/python3.11/dist-packages (from matplotlib) (1.4.8)\n",
            "Requirement already satisfied: packaging>=20.0 in /usr/local/lib/python3.11/dist-packages (from matplotlib) (24.2)\n",
            "Requirement already satisfied: pillow>=8 in /usr/local/lib/python3.11/dist-packages (from matplotlib) (11.2.1)\n",
            "Requirement already satisfied: python-dateutil>=2.7 in /usr/local/lib/python3.11/dist-packages (from matplotlib) (2.9.0.post0)\n",
            "Requirement already satisfied: six>=1.5 in /usr/local/lib/python3.11/dist-packages (from python-dateutil>=2.7->matplotlib) (1.17.0)\n",
            "Requirement already satisfied: aiohappyeyeballs>=2.3.0 in /usr/local/lib/python3.11/dist-packages (from aiohttp->torch-geometric) (2.6.1)\n",
            "Requirement already satisfied: aiosignal>=1.1.2 in /usr/local/lib/python3.11/dist-packages (from aiohttp->torch-geometric) (1.3.2)\n",
            "Requirement already satisfied: attrs>=17.3.0 in /usr/local/lib/python3.11/dist-packages (from aiohttp->torch-geometric) (25.3.0)\n",
            "Requirement already satisfied: frozenlist>=1.1.1 in /usr/local/lib/python3.11/dist-packages (from aiohttp->torch-geometric) (1.7.0)\n",
            "Requirement already satisfied: multidict<7.0,>=4.5 in /usr/local/lib/python3.11/dist-packages (from aiohttp->torch-geometric) (6.4.4)\n",
            "Requirement already satisfied: propcache>=0.2.0 in /usr/local/lib/python3.11/dist-packages (from aiohttp->torch-geometric) (0.3.2)\n",
            "Requirement already satisfied: yarl<2.0,>=1.17.0 in /usr/local/lib/python3.11/dist-packages (from aiohttp->torch-geometric) (1.20.1)\n",
            "Requirement already satisfied: MarkupSafe>=2.0 in /usr/local/lib/python3.11/dist-packages (from jinja2->torch-geometric) (3.0.2)\n",
            "Requirement already satisfied: charset-normalizer<4,>=2 in /usr/local/lib/python3.11/dist-packages (from requests->torch-geometric) (3.4.2)\n",
            "Requirement already satisfied: idna<4,>=2.5 in /usr/local/lib/python3.11/dist-packages (from requests->torch-geometric) (3.10)\n",
            "Requirement already satisfied: urllib3<3,>=1.21.1 in /usr/local/lib/python3.11/dist-packages (from requests->torch-geometric) (2.4.0)\n",
            "Requirement already satisfied: certifi>=2017.4.17 in /usr/local/lib/python3.11/dist-packages (from requests->torch-geometric) (2025.6.15)\n",
            "Downloading torch_geometric-2.6.1-py3-none-any.whl (1.1 MB)\n",
            "\u001b[2K   \u001b[90m━━━━━━━━━━━━━━━━━━━━━━━━━━━━━━━━━━━━━━━━\u001b[0m \u001b[32m1.1/1.1 MB\u001b[0m \u001b[31m56.3 MB/s\u001b[0m eta \u001b[36m0:00:00\u001b[0m\n",
            "\u001b[?25hInstalling collected packages: torch-geometric\n",
            "Successfully installed torch-geometric-2.6.1\n"
          ]
        }
      ],
      "source": [
        "pip install torch-geometric networkx matplotlib"
      ]
    },
    {
      "cell_type": "code",
      "source": [
        "import torch\n",
        "import torch.nn.functional as F\n",
        "from torch_geometric.data import Data\n",
        "from torch_geometric.nn import GCNConv\n",
        "import networkx as nx\n",
        "import matplotlib.pyplot as plt\n",
        "import random\n",
        ""
      ],
      "metadata": {
        "id": "YZWTEHi6m9HE"
      },
      "execution_count": 2,
      "outputs": []
    },
    {
      "cell_type": "code",
      "source": [
        "# Create a Barabási–Albert (scale-free) graph with 50 nodes.\n",
        "# Each new node attaches to 2 existing nodes with probability ∝ degree.\n",
        "# Think of nodes as “accounts” and edges as “transactions.”\n",
        "\n",
        "# 1.Simulating a small transaction network\n",
        "G = nx.barabasi_albert_graph(50, 2)  # 50 accounts, preferential attachment"
      ],
      "metadata": {
        "id": "f9tLLaIInLXF"
      },
      "execution_count": 3,
      "outputs": []
    },
    {
      "cell_type": "code",
      "source": [
        "# 2. Create synthetic labels for fraud detection\n",
        "# ------------------------------------------------------------------------\n",
        "\n",
        "# Initialize a tensor of zeros (all “legit”): shape (50,), dtype long for classification\n",
        "labels = torch.zeros(50, dtype=torch.long)\n",
        "\n",
        "# Randomly pick 5 nodes (10%) to be “fraudulent” (label=1)\n",
        "fraud_nodes = random.sample(range(50), 5)\n",
        "\n",
        "labels[fraud_nodes] = 1"
      ],
      "metadata": {
        "id": "7sTCEp_KnTMj"
      },
      "execution_count": 4,
      "outputs": []
    },
    {
      "cell_type": "code",
      "source": [
        "# 3. Convert the NetworkX graph into PyTorch Geometric format\n",
        "# Edge list as a tensor of shape (2, num_edges)\n",
        "edge_index = torch.tensor(list(G.edges), dtype=torch.long).t().contiguous()\n",
        "# Since we want an undirected graph in GCN, add the reverse direction of each edge\n",
        "edge_index = torch.cat([edge_index, edge_index.flip(0)], dim=1)  # make undirected"
      ],
      "metadata": {
        "id": "awdxu_JjnZtc"
      },
      "execution_count": 5,
      "outputs": []
    },
    {
      "cell_type": "code",
      "source": [
        "# 4. Create node features\n",
        "# ------------------------------------------------------------------------\n",
        "\n",
        "# For simplicity: random 16-dimensional features per node.\n",
        "# In a real system, these could be transaction volumes, activity counts, etc.\n",
        "x = torch.rand((50, 16))\n",
        "\n",
        "# ------------------------------------------------------------------------\n",
        "# 5. Define train/test splits\n",
        "# ------------------------------------------------------------------------\n",
        "\n",
        "# Boolean masks of shape (50,), True for training nodes, True for test nodes\n",
        "train_mask = torch.zeros(50, dtype=torch.bool)\n",
        "test_mask = torch.zeros(50, dtype=torch.bool)\n",
        "\n",
        "# First 35 nodes for training, remaining 15 for testing\n",
        "train_mask[:35] = True\n",
        "test_mask[35:] = True"
      ],
      "metadata": {
        "id": "ai4BWExdnn-P"
      },
      "execution_count": 6,
      "outputs": []
    },
    {
      "cell_type": "code",
      "source": [
        "# 6. Bundle data into a single PyG Data object\n",
        "# ------------------------------------------------------------------------\n",
        "\n",
        "data = Data(x=x, edge_index=edge_index, y=labels, train_mask=train_mask, test_mask=test_mask)"
      ],
      "metadata": {
        "id": "QYP39nGEntSf"
      },
      "execution_count": 7,
      "outputs": []
    },
    {
      "cell_type": "code",
      "source": [
        "# 7. Define a simple 2-layer Graph Convolutional Network (GCN)\n",
        "# -----------------------------------------------------------------------\n",
        "class GCN(torch.nn.Module):\n",
        "    def __init__(self, in_channels, hidden_channels, out_channels):\n",
        "        super().__init__()\n",
        "        # First GCN layer:  in_channels → hidden_channels\n",
        "        self.conv1 = GCNConv(in_channels, hidden_channels)\n",
        "        # Second GCN layer: hidden_channels → out_channels (here 2 classes)\n",
        "        self.conv2 = GCNConv(hidden_channels, out_channels)\n",
        "\n",
        "    def forward(self, x, edge_index):\n",
        "        x = F.relu(self.conv1(x, edge_index))\n",
        "        x = F.dropout(x, p=0.3, training=self.training)\n",
        "        return self.conv2(x, edge_index)"
      ],
      "metadata": {
        "id": "uA0NFT3Dn4ql"
      },
      "execution_count": 8,
      "outputs": []
    },
    {
      "cell_type": "code",
      "source": [
        "# 8. Setup device, model, optimizer, and loss\n",
        "# ------------------------------------------------------------------------\n",
        "device = torch.device(\"cuda\" if torch.cuda.is_available() else \"cpu\")\n",
        "model = GCN(16, 32, 2).to(device)\n",
        "data = data.to(device)\n",
        "optimizer = torch.optim.Adam(model.parameters(), lr=0.01)\n",
        "loss_fn = torch.nn.CrossEntropyLoss()"
      ],
      "metadata": {
        "id": "b2-yAFj5n7-S"
      },
      "execution_count": 9,
      "outputs": []
    },
    {
      "cell_type": "code",
      "source": [
        "# 5. Train function\n",
        "def train():\n",
        "    model.train()  # putting model in training mode\n",
        "    optimizer.zero_grad()   # clearing previous gradients\n",
        "    # Forward pass: compute logits for all nodes\n",
        "    out = model(data.x, data.edge_index)\n",
        "    # Compute loss only on the training nodes\n",
        "    loss = loss_fn(out[data.train_mask], data.y[data.train_mask])\n",
        "    # Backward pass + optimizer step\n",
        "    loss.backward()\n",
        "    optimizer.step()\n",
        "    return loss.item()"
      ],
      "metadata": {
        "id": "ntDbqnLHn_-b"
      },
      "execution_count": 10,
      "outputs": []
    },
    {
      "cell_type": "code",
      "source": [
        "# 6. Test function\n",
        "def test():\n",
        "    model.eval()   # evaluation mode (disables dropout)\n",
        "    out = model(data.x, data.edge_index)\n",
        "    pred = out.argmax(dim=1)     # pick class with highest logit\n",
        "    # Count correct predictions on the test set\n",
        "    correct = (pred[data.test_mask] == data.y[data.test_mask]).sum()\n",
        "    total = data.test_mask.sum()\n",
        "    return int(correct) / int(total)"
      ],
      "metadata": {
        "id": "9OQUuPO3oEAe"
      },
      "execution_count": 11,
      "outputs": []
    },
    {
      "cell_type": "code",
      "source": [
        "# 7. Runing training loop\n",
        "for epoch in range(1, 31):\n",
        "    loss = train()\n",
        "    acc = test()\n",
        "    print(f\"Epoch {epoch:02d}, Loss: {loss:.4f}, Test Accuracy: {acc:.4f}\")"
      ],
      "metadata": {
        "colab": {
          "base_uri": "https://localhost:8080/"
        },
        "id": "roTi5QELoLKP",
        "outputId": "983df324-4ba9-4589-c3e0-763f31d23b62"
      },
      "execution_count": 12,
      "outputs": [
        {
          "output_type": "stream",
          "name": "stdout",
          "text": [
            "Epoch 01, Loss: 1.0517, Test Accuracy: 0.0667\n",
            "Epoch 02, Loss: 0.7578, Test Accuracy: 0.9333\n",
            "Epoch 03, Loss: 0.6470, Test Accuracy: 0.9333\n",
            "Epoch 04, Loss: 0.5610, Test Accuracy: 0.9333\n",
            "Epoch 05, Loss: 0.4761, Test Accuracy: 0.9333\n",
            "Epoch 06, Loss: 0.4408, Test Accuracy: 0.9333\n",
            "Epoch 07, Loss: 0.4168, Test Accuracy: 0.9333\n",
            "Epoch 08, Loss: 0.3996, Test Accuracy: 0.9333\n",
            "Epoch 09, Loss: 0.4257, Test Accuracy: 0.9333\n",
            "Epoch 10, Loss: 0.4293, Test Accuracy: 0.9333\n",
            "Epoch 11, Loss: 0.4129, Test Accuracy: 0.9333\n",
            "Epoch 12, Loss: 0.4159, Test Accuracy: 0.9333\n",
            "Epoch 13, Loss: 0.4223, Test Accuracy: 0.9333\n",
            "Epoch 14, Loss: 0.4520, Test Accuracy: 0.9333\n",
            "Epoch 15, Loss: 0.4604, Test Accuracy: 0.9333\n",
            "Epoch 16, Loss: 0.4643, Test Accuracy: 0.9333\n",
            "Epoch 17, Loss: 0.4647, Test Accuracy: 0.9333\n",
            "Epoch 18, Loss: 0.4446, Test Accuracy: 0.9333\n",
            "Epoch 19, Loss: 0.4331, Test Accuracy: 0.9333\n",
            "Epoch 20, Loss: 0.4420, Test Accuracy: 0.9333\n",
            "Epoch 21, Loss: 0.4184, Test Accuracy: 0.9333\n",
            "Epoch 22, Loss: 0.4284, Test Accuracy: 0.9333\n",
            "Epoch 23, Loss: 0.4424, Test Accuracy: 0.9333\n",
            "Epoch 24, Loss: 0.3832, Test Accuracy: 0.9333\n",
            "Epoch 25, Loss: 0.3977, Test Accuracy: 0.9333\n",
            "Epoch 26, Loss: 0.3892, Test Accuracy: 0.9333\n",
            "Epoch 27, Loss: 0.4134, Test Accuracy: 0.9333\n",
            "Epoch 28, Loss: 0.4137, Test Accuracy: 0.9333\n",
            "Epoch 29, Loss: 0.4097, Test Accuracy: 0.9333\n",
            "Epoch 30, Loss: 0.4152, Test Accuracy: 0.9333\n"
          ]
        }
      ]
    }
  ]
}